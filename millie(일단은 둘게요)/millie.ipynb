{
 "cells": [
  {
   "cell_type": "code",
   "execution_count": 1,
   "metadata": {},
   "outputs": [],
   "source": [
    "id = input(\"아이디를 입력하세요 : \")\n",
    "pw = input(\"비밀번호를 입력하세요 : \")\n",
    "\n"
   ]
  },
  {
   "cell_type": "code",
   "execution_count": 2,
   "metadata": {},
   "outputs": [
    {
     "name": "stderr",
     "output_type": "stream",
     "text": [
      "C:\\Users\\김근영\\AppData\\Local\\Temp\\ipykernel_10188\\3642851369.py:14: DeprecationWarning: executable_path has been deprecated, please pass in a Service object\n",
      "  driver = webdriver.Chrome(\"C:/Users/김근영/chromedriver_win32.zip/chromedriver.exe\")\n"
     ]
    }
   ],
   "source": [
    "from selenium import webdriver\n",
    "from selenium.webdriver.chrome.service import Service\n",
    "from webdriver_manager.chrome import ChromeDriverManager\n",
    "from bs4 import BeautifulSoup\n",
    "import pandas as pd\n",
    "from urllib.request import urlopen\n",
    "import time\n",
    "from selenium.webdriver.common.by import By\n",
    "import requests\n",
    "from selenium.webdriver.common.keys import Keys\n",
    "from datetime import datetime\n",
    "import xlwt\n",
    "\n",
    "driver = webdriver.Chrome(\"C:/Users/김근영/chromedriver_win32.zip/chromedriver.exe\")\n"
   ]
  },
  {
   "cell_type": "code",
   "execution_count": 3,
   "metadata": {},
   "outputs": [],
   "source": [
    "# 칼럼 리스트 준비\n",
    "book_list = []\n",
    "\n",
    "# 밀리의 서재 베스트셀러 웹페이지를 가져옵니다.(여기까지 로그인)\n",
    "driver.get(\"https://www.millie.co.kr/v3/login\")\n",
    "time.sleep(0.5)\n",
    "driver.find_element(By.CSS_SELECTOR, '#input-14').send_keys(id)\n",
    "time.sleep(0.5)\n",
    "driver.find_element(By.CSS_SELECTOR, '#input-15').send_keys(pw)\n",
    "driver.find_element(By.CSS_SELECTOR, \"#wrap > section > div > div.login-content > div.button-area.mt16 > button\").click()\n",
    "time.sleep(3)\n",
    "\n",
    "#주간 웹페이지 들어가는 중\n",
    "driver.find_element(By.CSS_SELECTOR, \"#wrap > div > div > header > nav > ul > li:nth-child(3) > a\").click()\n",
    "time.sleep(1)\n",
    "driver.find_element(By.CSS_SELECTOR, \"#wrap > section > section > div.search-body > section.shortcuts > div > a.best-link.gtm-search-direct-best\").click()\n",
    "time.sleep(1)\n",
    "driver.find_element(By.CSS_SELECTOR, \"#wrap > section > div > section > article:nth-child(1) > h2\").click()\n",
    "time.sleep(1)\n",
    "\n",
    "soup = BeautifulSoup(driver.page_source, 'html.parser')"
   ]
  },
  {
   "cell_type": "code",
   "execution_count": 4,
   "metadata": {},
   "outputs": [],
   "source": [
    "# 1위 책 클릭(대여 횟수 긁어오기 위함)\n",
    "for i in range(1, 101):#1위부터 100위까지\n",
    "    driver.find_element(By.CSS_SELECTOR, \"#wrap > section > div > section > article > ul > li:nth-child(\"+str(i)+\") > div\").click()\n",
    "    time.sleep(1)\n",
    "\n",
    "    soup = BeautifulSoup(driver.page_source, 'html.parser')\n",
    "    books = soup.select('div.cover-data')\n",
    "\n",
    "    for book in books:\n",
    "        title = book.select('p.book-name')[0].text\n",
    "        author = book.select('p.author')[0].text\n",
    "        borrow_num = book.select('strong')[0].text\n",
    "        #print(i, title, author, borrow_num)\n",
    "        book_list.append([i, title, author, borrow_num])\n",
    "    i += 1\n",
    "    driver.find_element(By.CSS_SELECTOR, \"#wrap > div > div > header > nav > ul > li:nth-child(3) > a\").click()\n",
    "    time.sleep(1)\n",
    "    driver.find_element(By.CSS_SELECTOR, \"#wrap > section > section > div.search-body > section.shortcuts > div > a.best-link.gtm-search-direct-best\").click()\n",
    "    time.sleep(1)\n",
    "    driver.find_element(By.CSS_SELECTOR, \"#wrap > section > div > section > article:nth-child(1) > h2\").click()\n",
    "    time.sleep(1)\n",
    "    \n",
    "\n"
   ]
  },
  {
   "cell_type": "code",
   "execution_count": 9,
   "metadata": {},
   "outputs": [
    {
     "name": "stderr",
     "output_type": "stream",
     "text": [
      "C:\\Users\\김근영\\AppData\\Local\\Packages\\PythonSoftwareFoundation.Python.3.10_qbz5n2kfra8p0\\LocalCache\\local-packages\\Python310\\site-packages\\pandas\\util\\_decorators.py:211: FutureWarning: the 'encoding' keyword is deprecated and will be removed in a future version. Please take steps to stop the use of 'encoding'\n",
      "  return func(*args, **kwargs)\n",
      "C:\\Users\\김근영\\AppData\\Local\\Temp\\ipykernel_10188\\3669658922.py:5: FutureWarning: As the xlwt package is no longer maintained, the xlwt engine will be removed in a future version of pandas. This is the only engine in pandas that supports writing in the xls format. Install openpyxl and write to an xlsx file instead. You can set the option io.excel.xls.writer to 'xlwt' to silence this warning. While this option is deprecated and will also raise a warning, it can be globally set and the warning suppressed.\n",
      "  df.to_excel(\"밀리의 서재 대여 횟수\" + '.xls', index = False, encoding = \"utf-8-sig\")\n"
     ]
    }
   ],
   "source": [
    "    \n",
    "df = pd.DataFrame(book_list, columns = [\"순위\", \"제목\", \"저자\", \"대여 횟수\"])\n",
    "\n",
    "\n",
    "df.to_csv(\"밀리의 서재 대여 횟수\" + '.csv', index = False, encoding = 'utf-8-sig')\n",
    "df.to_excel(\"밀리의 서재 대여 횟수\" + '.xls', index = False, encoding = \"utf-8-sig\")\n",
    "\n"
   ]
  },
  {
   "cell_type": "code",
   "execution_count": 11,
   "metadata": {},
   "outputs": [
    {
     "data": {
      "text/html": [
       "<div>\n",
       "<style scoped>\n",
       "    .dataframe tbody tr th:only-of-type {\n",
       "        vertical-align: middle;\n",
       "    }\n",
       "\n",
       "    .dataframe tbody tr th {\n",
       "        vertical-align: top;\n",
       "    }\n",
       "\n",
       "    .dataframe thead th {\n",
       "        text-align: right;\n",
       "    }\n",
       "</style>\n",
       "<table border=\"1\" class=\"dataframe\">\n",
       "  <thead>\n",
       "    <tr style=\"text-align: right;\">\n",
       "      <th></th>\n",
       "      <th>순위</th>\n",
       "      <th>제목</th>\n",
       "      <th>저자</th>\n",
       "      <th>대여 횟수</th>\n",
       "    </tr>\n",
       "  </thead>\n",
       "  <tbody>\n",
       "    <tr>\n",
       "      <th>0</th>\n",
       "      <td>1</td>\n",
       "      <td>\\n                데일리 필로소피\\n</td>\n",
       "      <td>라이언 홀리데이, 스티븐 핸슬먼 지음 / 장원철 옮김</td>\n",
       "      <td>7,245개</td>\n",
       "    </tr>\n",
       "    <tr>\n",
       "      <th>1</th>\n",
       "      <td>2</td>\n",
       "      <td>\\n                가난해지지 않는 마음\\n</td>\n",
       "      <td>양다솔</td>\n",
       "      <td>4,238개</td>\n",
       "    </tr>\n",
       "    <tr>\n",
       "      <th>2</th>\n",
       "      <td>3</td>\n",
       "      <td>\\n                만일 내가 인생을 다시 산다면\\n</td>\n",
       "      <td>김혜남</td>\n",
       "      <td>8.5만 개+</td>\n",
       "    </tr>\n",
       "    <tr>\n",
       "      <th>3</th>\n",
       "      <td>4</td>\n",
       "      <td>\\n                불편한 편의점\\n</td>\n",
       "      <td>김호연 지음</td>\n",
       "      <td>32만 개+</td>\n",
       "    </tr>\n",
       "    <tr>\n",
       "      <th>4</th>\n",
       "      <td>5</td>\n",
       "      <td>\\n                부자 아빠 가난한 아빠 20주년 특별 기념판\\n  ...</td>\n",
       "      <td>저자 로버트 기요사키 지음 / 안진환 옮김</td>\n",
       "      <td>3.6만 개+</td>\n",
       "    </tr>\n",
       "    <tr>\n",
       "      <th>...</th>\n",
       "      <td>...</td>\n",
       "      <td>...</td>\n",
       "      <td>...</td>\n",
       "      <td>...</td>\n",
       "    </tr>\n",
       "    <tr>\n",
       "      <th>95</th>\n",
       "      <td>96</td>\n",
       "      <td>\\n                그리고 행복하다는 소식을 들었습니다\\n       ...</td>\n",
       "      <td>이병률</td>\n",
       "      <td>3,041개</td>\n",
       "    </tr>\n",
       "    <tr>\n",
       "      <th>96</th>\n",
       "      <td>97</td>\n",
       "      <td>\\n                백조와 박쥐\\n</td>\n",
       "      <td>히가시노게이고 지음, 양윤옥 옮김</td>\n",
       "      <td>3.9만 개+</td>\n",
       "    </tr>\n",
       "    <tr>\n",
       "      <th>97</th>\n",
       "      <td>98</td>\n",
       "      <td>\\n                퇴마록 국내편 1 \\n</td>\n",
       "      <td>이우혁</td>\n",
       "      <td>1.3만 개+</td>\n",
       "    </tr>\n",
       "    <tr>\n",
       "      <th>98</th>\n",
       "      <td>99</td>\n",
       "      <td>\\n                사랑은 그렇게 하는 것이 아니다 \\n        ...</td>\n",
       "      <td>김달</td>\n",
       "      <td>7,068개</td>\n",
       "    </tr>\n",
       "    <tr>\n",
       "      <th>99</th>\n",
       "      <td>100</td>\n",
       "      <td>\\n                철수 삼촌\\n</td>\n",
       "      <td>김남윤</td>\n",
       "      <td>987개</td>\n",
       "    </tr>\n",
       "  </tbody>\n",
       "</table>\n",
       "<p>100 rows × 4 columns</p>\n",
       "</div>"
      ],
      "text/plain": [
       "     순위                                                 제목  \\\n",
       "0     1           \\n                데일리 필로소피\\n               \n",
       "1     2        \\n                가난해지지 않는 마음\\n               \n",
       "2     3   \\n                만일 내가 인생을 다시 산다면\\n               \n",
       "3     4            \\n                불편한 편의점\\n               \n",
       "4     5  \\n                부자 아빠 가난한 아빠 20주년 특별 기념판\\n  ...   \n",
       "..  ...                                                ...   \n",
       "95   96  \\n                그리고 행복하다는 소식을 들었습니다\\n       ...   \n",
       "96   97             \\n                백조와 박쥐\\n               \n",
       "97   98         \\n                퇴마록 국내편 1 \\n               \n",
       "98   99  \\n                사랑은 그렇게 하는 것이 아니다 \\n        ...   \n",
       "99  100              \\n                철수 삼촌\\n               \n",
       "\n",
       "                               저자    대여 횟수  \n",
       "0   라이언 홀리데이, 스티븐 핸슬먼 지음 / 장원철 옮김   7,245개  \n",
       "1                             양다솔   4,238개  \n",
       "2                             김혜남  8.5만 개+  \n",
       "3                          김호연 지음   32만 개+  \n",
       "4         저자 로버트 기요사키 지음 / 안진환 옮김  3.6만 개+  \n",
       "..                            ...      ...  \n",
       "95                            이병률   3,041개  \n",
       "96             히가시노게이고 지음, 양윤옥 옮김  3.9만 개+  \n",
       "97                            이우혁  1.3만 개+  \n",
       "98                             김달   7,068개  \n",
       "99                            김남윤     987개  \n",
       "\n",
       "[100 rows x 4 columns]"
      ]
     },
     "execution_count": 11,
     "metadata": {},
     "output_type": "execute_result"
    }
   ],
   "source": [
    "df"
   ]
  }
 ],
 "metadata": {
  "kernelspec": {
   "display_name": "Python 3",
   "language": "python",
   "name": "python3"
  },
  "language_info": {
   "codemirror_mode": {
    "name": "ipython",
    "version": 3
   },
   "file_extension": ".py",
   "mimetype": "text/x-python",
   "name": "python",
   "nbconvert_exporter": "python",
   "pygments_lexer": "ipython3",
   "version": "3.10.10"
  },
  "orig_nbformat": 4,
  "vscode": {
   "interpreter": {
    "hash": "b6b28a3c2ad8be5b54379236f3090d491432062d189b051094b59f7a6a7b1ade"
   }
  }
 },
 "nbformat": 4,
 "nbformat_minor": 2
}
